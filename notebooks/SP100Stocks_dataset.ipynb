{
 "cells": [
  {
   "cell_type": "code",
   "execution_count": 153,
   "id": "initial_id",
   "metadata": {
    "collapsed": true,
    "ExecuteTime": {
     "end_time": "2024-05-05T17:43:52.628263900Z",
     "start_time": "2024-05-05T17:43:52.561868800Z"
    }
   },
   "outputs": [],
   "source": [
    "import numpy as np\n",
    "import os.path as osp\n",
    "import pandas as pd\n",
    "import torch\n",
    "from torch_geometric.data import Dataset, Data"
   ]
  },
  {
   "cell_type": "markdown",
   "source": [
    "# PyTorch Geometric custom Dataset\n",
    "The Dataset class is used to create a custom dataset and use it with PyG modules.\n",
    "**Note: To use this notebook, first execute notebooks 1 and 2.**"
   ],
   "metadata": {
    "collapsed": false
   },
   "id": "db2c911eeece5042"
  },
  {
   "cell_type": "markdown",
   "source": [
    "## Processing the graph data\n",
    "The next cells demonstrate the adjacency matrix and historical values processing done in the `Dataset.process(*)` method.   "
   ],
   "metadata": {
    "collapsed": false
   },
   "id": "f0d5871931936f9b"
  },
  {
   "cell_type": "markdown",
   "source": [
    "### Opening the historical values and the adjacency matrix\n",
    "The goal is here to create T (the number of timestamps) graphs, one for each timestep. We use the same adjacency matrix for all the graphs as the structure is based on fundamentals and will not change."
   ],
   "metadata": {
    "collapsed": false
   },
   "id": "d0dbd3cc8fd5b29b"
  },
  {
   "cell_type": "code",
   "outputs": [
    {
     "data": {
      "text/plain": "                                      Close    Volume  Variation       RSI  \\\nSymbol Date                                                                  \nAAPL   2019-06-11 00:00:00-04:00  47.066399  0.195742  -0.000257  0.594733   \n       2019-06-12 00:00:00-04:00  46.916603 -0.472418   0.001237  0.583426   \n       2019-06-13 00:00:00-04:00  46.906933 -0.209040  -0.002825  0.582656   \n       2019-06-14 00:00:00-04:00  46.566288 -0.433289   0.006212  0.554871   \n       2019-06-17 00:00:00-04:00  46.844131 -0.748321   0.005132  0.572767   \n\n                                      MACD  BhB  BlB  \nSymbol Date                                           \nAAPL   2019-06-11 00:00:00-04:00 -0.578354  0.0  0.0  \n       2019-06-12 00:00:00-04:00 -0.379584  0.0  0.0  \n       2019-06-13 00:00:00-04:00 -0.220298  0.0  0.0  \n       2019-06-14 00:00:00-04:00 -0.120164  0.0  0.0  \n       2019-06-17 00:00:00-04:00 -0.018179  0.0  0.0  ",
      "text/html": "<div>\n<style scoped>\n    .dataframe tbody tr th:only-of-type {\n        vertical-align: middle;\n    }\n\n    .dataframe tbody tr th {\n        vertical-align: top;\n    }\n\n    .dataframe thead th {\n        text-align: right;\n    }\n</style>\n<table border=\"1\" class=\"dataframe\">\n  <thead>\n    <tr style=\"text-align: right;\">\n      <th></th>\n      <th></th>\n      <th>Close</th>\n      <th>Volume</th>\n      <th>Variation</th>\n      <th>RSI</th>\n      <th>MACD</th>\n      <th>BhB</th>\n      <th>BlB</th>\n    </tr>\n    <tr>\n      <th>Symbol</th>\n      <th>Date</th>\n      <th></th>\n      <th></th>\n      <th></th>\n      <th></th>\n      <th></th>\n      <th></th>\n      <th></th>\n    </tr>\n  </thead>\n  <tbody>\n    <tr>\n      <th rowspan=\"5\" valign=\"top\">AAPL</th>\n      <th>2019-06-11 00:00:00-04:00</th>\n      <td>47.066399</td>\n      <td>0.195742</td>\n      <td>-0.000257</td>\n      <td>0.594733</td>\n      <td>-0.578354</td>\n      <td>0.0</td>\n      <td>0.0</td>\n    </tr>\n    <tr>\n      <th>2019-06-12 00:00:00-04:00</th>\n      <td>46.916603</td>\n      <td>-0.472418</td>\n      <td>0.001237</td>\n      <td>0.583426</td>\n      <td>-0.379584</td>\n      <td>0.0</td>\n      <td>0.0</td>\n    </tr>\n    <tr>\n      <th>2019-06-13 00:00:00-04:00</th>\n      <td>46.906933</td>\n      <td>-0.209040</td>\n      <td>-0.002825</td>\n      <td>0.582656</td>\n      <td>-0.220298</td>\n      <td>0.0</td>\n      <td>0.0</td>\n    </tr>\n    <tr>\n      <th>2019-06-14 00:00:00-04:00</th>\n      <td>46.566288</td>\n      <td>-0.433289</td>\n      <td>0.006212</td>\n      <td>0.554871</td>\n      <td>-0.120164</td>\n      <td>0.0</td>\n      <td>0.0</td>\n    </tr>\n    <tr>\n      <th>2019-06-17 00:00:00-04:00</th>\n      <td>46.844131</td>\n      <td>-0.748321</td>\n      <td>0.005132</td>\n      <td>0.572767</td>\n      <td>-0.018179</td>\n      <td>0.0</td>\n      <td>0.0</td>\n    </tr>\n  </tbody>\n</table>\n</div>"
     },
     "execution_count": 154,
     "metadata": {},
     "output_type": "execute_result"
    }
   ],
   "source": [
    "values = pd.read_csv('../data/SP100/raw/values.csv').set_index(['Symbol', 'Date'])\n",
    "values.head()"
   ],
   "metadata": {
    "collapsed": false,
    "ExecuteTime": {
     "end_time": "2024-05-05T17:43:52.895652100Z",
     "start_time": "2024-05-05T17:43:52.631257600Z"
    }
   },
   "id": "f9ae698bfd8614ed",
   "execution_count": 154
  },
  {
   "cell_type": "code",
   "outputs": [
    {
     "data": {
      "text/plain": "array([[0.        , 0.        , 0.        , 0.25805462, 0.25805462],\n       [0.        , 0.        , 0.51610923, 0.        , 0.        ],\n       [0.        , 0.51610923, 0.        , 0.        , 0.        ],\n       [0.25805462, 0.        , 0.        , 0.        , 0.51610923],\n       [0.25805462, 0.        , 0.        , 0.51610923, 0.        ]])"
     },
     "execution_count": 155,
     "metadata": {},
     "output_type": "execute_result"
    }
   ],
   "source": [
    "adj = np.load('../data/SP100/raw/adj.npy')\n",
    "adj[:5, :5]"
   ],
   "metadata": {
    "collapsed": false,
    "ExecuteTime": {
     "end_time": "2024-05-05T17:43:52.906800700Z",
     "start_time": "2024-05-05T17:43:52.898643800Z"
    }
   },
   "id": "e62d8b9de2cf6f8f",
   "execution_count": 155
  },
  {
   "cell_type": "markdown",
   "source": [
    "### Creating the feature matrix and edge indices\n",
    "The feature matrix is a 3d matrix of shape (stocks_nb, timestamps_nb, features_nb). The adjacency matrix is used to create the edge_index matrix in the PyTorch Geomtric format."
   ],
   "metadata": {
    "collapsed": false
   },
   "id": "70d75e9347a5fdaa"
  },
  {
   "cell_type": "code",
   "outputs": [
    {
     "data": {
      "text/plain": "((100, 6, 1234), (2, 1230), (1230,))"
     },
     "execution_count": 156,
     "metadata": {},
     "output_type": "execute_result"
    }
   ],
   "source": [
    "nodes_nb = len(adj)\n",
    "x = np.array(\n",
    "\tvalues.drop(columns=[\"Close\"]).to_numpy().reshape((nodes_nb, -1, values.shape[1] - 1))\n",
    ")\n",
    "x = np.swapaxes(x, 1, 2)  # to obtain (nodes, features, timestamps)\n",
    "\n",
    "edge_nb = np.count_nonzero(adj) // 2  # the graph is undirected\n",
    "edge_index = np.zeros((2, edge_nb))\n",
    "edge_weight = np.zeros((edge_nb,))\n",
    "count = 0\n",
    "for i in range(nodes_nb):\n",
    "\tfor j in range(i + 1, nodes_nb):\n",
    "\t\tif (weight := adj[i, j]) != 0:\n",
    "\t\t\tedge_index[0, count], edge_index[1, count] = i, j\n",
    "\t\t\tedge_weight[count] = weight\n",
    "\t\t\tcount += 1\n",
    "x.shape, edge_index.shape, edge_weight.shape"
   ],
   "metadata": {
    "collapsed": false,
    "ExecuteTime": {
     "end_time": "2024-05-05T17:43:52.921720400Z",
     "start_time": "2024-05-05T17:43:52.906800700Z"
    }
   },
   "id": "a7e77ff7de8e4885",
   "execution_count": 156
  },
  {
   "cell_type": "markdown",
   "source": [
    "### Building the graphs\n",
    "Finally, the graphs can be built using the Data class for PyG."
   ],
   "metadata": {
    "collapsed": false
   },
   "id": "571cd2502ef4162b"
  },
  {
   "cell_type": "code",
   "outputs": [
    {
     "data": {
      "text/plain": "[Data(x=[100, 6], edge_index=[2, 1230], edge_weight=[1230]),\n Data(x=[100, 6], edge_index=[2, 1230], edge_weight=[1230]),\n Data(x=[100, 6], edge_index=[2, 1230], edge_weight=[1230]),\n Data(x=[100, 6], edge_index=[2, 1230], edge_weight=[1230]),\n Data(x=[100, 6], edge_index=[2, 1230], edge_weight=[1230])]"
     },
     "execution_count": 157,
     "metadata": {},
     "output_type": "execute_result"
    }
   ],
   "source": [
    "timestamps = [\n",
    "\tData(x=x[:, :, idx], edge_index=edge_index, edge_weight=edge_weight) for idx in range(x.shape[1])\n",
    "]\n",
    "timestamps[:5]"
   ],
   "metadata": {
    "collapsed": false,
    "ExecuteTime": {
     "end_time": "2024-05-05T17:43:52.969960600Z",
     "start_time": "2024-05-05T17:43:52.924706100Z"
    }
   },
   "id": "320af29b230149e4",
   "execution_count": 157
  },
  {
   "cell_type": "markdown",
   "source": [
    "## Defining the PyTorch Geometric datasets\n",
    "The previously defined method is used to process the data and create a standard PyG Dataset class.\n",
    "Two datasets are defined:\n",
    "- The first dataset contains graphs with data for a single timestamps\n",
    "- The second dataset contains graphs with 3d node features -- data for the timestamps $[\\![t, t+T[\\![$ -- and a target variable -- the variation at time $t+T$ -- used for forecasting."
   ],
   "metadata": {
    "collapsed": false
   },
   "id": "5d2e96ceeac9e9dc"
  },
  {
   "cell_type": "code",
   "outputs": [],
   "source": [
    "class SP100Stocks(Dataset):\n",
    "\t\"\"\"\n",
    "\tStock price data for the S&P 100 companies.\n",
    "\tThe graph data built from the notebook is used.\n",
    "\t\"\"\"\n",
    "\tdef __init__(self, root: str = \"../data/SP100/\", values_file_name: str = \"values.csv\", adj_file_name: str = \"adj.npy\"):\n",
    "\t\tself.values_file_name = values_file_name\n",
    "\t\tself.adj_file_name = adj_file_name\n",
    "\t\tsuper().__init__(root)\n",
    "\n",
    "\t@property\n",
    "\tdef raw_file_names(self) -> list[str]:\n",
    "\t\treturn [\n",
    "\t\t\tself.values_file_name, self.adj_file_name\n",
    "\t\t]\n",
    "\n",
    "\t@property\n",
    "\tdef processed_file_names(self) -> list[str]:\n",
    "\t\treturn [\n",
    "\t\t\tf'timestep_{idx}.pt' for idx in range(len(self))\n",
    "\t\t]\n",
    "\n",
    "\tdef download(self) -> None:\n",
    "\t\tpass\n",
    "\n",
    "\tdef process(self) -> None:\n",
    "\t\tvalues = pd.read_csv('../data/SP100/raw/values.csv').set_index(['Symbol', 'Date'])\n",
    "\t\tadj = np.load('../data/SP100/raw/adj.npy')\n",
    "\t\tnodes_nb, edge_nb = len(adj), np.count_nonzero(adj) // 2\n",
    "\t\tx = torch.tensor(\n",
    "\t\t\tvalues.drop(columns=[\"Close\"]).to_numpy().reshape((nodes_nb, -1, values.shape[1] - 1))\n",
    "\t\t)\n",
    "\t\tx = np.swapaxes(x, 1, 2)\n",
    "\t\tclose_prices = torch.tensor(\n",
    "\t\t\tvalues[[\"Close\"]].to_numpy().reshape((nodes_nb, -1))\n",
    "\t\t)\n",
    "\t\tedge_index, edge_weight = torch.zeros((2, edge_nb)), torch.zeros((edge_nb,))\n",
    "\t\tcount = 0\n",
    "\t\tfor i in range(nodes_nb):\n",
    "\t\t\tfor j in range(i + 1, nodes_nb):\n",
    "\t\t\t\tif (weight := adj[i, j]) != 0:\n",
    "\t\t\t\t\tedge_index[0, count], edge_index[1, count] = i, j\n",
    "\t\t\t\t\tedge_weight[count] = weight\n",
    "\t\t\t\t\tcount += 1\n",
    "\t\ttimestamps = [\n",
    "\t\t\tData(x=x[:, :, idx], edge_index=edge_index, edge_weight=edge_weight, close_price=close_prices[:, idx]) for idx in range(x.shape[2])\n",
    "\t\t]\n",
    "\t\tfor t, timestep in enumerate(timestamps):\n",
    "\t\t\ttorch.save(\n",
    "\t\t\t\ttimestep, osp.join(self.processed_dir, f\"timestep_{t}.pt\")\n",
    "\t\t\t)\n",
    "\t\t\n",
    "\tdef len(self) -> int:\n",
    "\t\tvalues = pd.read_csv(self.raw_paths[0]).set_index(['Symbol', 'Date'])\n",
    "\t\treturn len(values.loc[values.index[0][0]])\n",
    "\n",
    "\tdef get(self, idx: int) -> Data:\n",
    "\t\tdata = torch.load(osp.join(self.processed_dir, f'timestep_{idx}.pt'))\n",
    "\t\treturn data"
   ],
   "metadata": {
    "collapsed": false,
    "ExecuteTime": {
     "end_time": "2024-05-05T17:43:52.995892100Z",
     "start_time": "2024-05-05T17:43:52.939629600Z"
    }
   },
   "id": "1b57ad45472b04f",
   "execution_count": 158
  },
  {
   "cell_type": "code",
   "outputs": [
    {
     "name": "stderr",
     "output_type": "stream",
     "text": [
      "Processing...\n",
      "Done!\n"
     ]
    },
    {
     "data": {
      "text/plain": "(SP100Stocks(1234),\n Data(x=[100, 6], edge_index=[2, 1230], edge_weight=[1230], close_price=[100]))"
     },
     "execution_count": 159,
     "metadata": {},
     "output_type": "execute_result"
    }
   ],
   "source": [
    "dataset = SP100Stocks()\n",
    "dataset, dataset[0]"
   ],
   "metadata": {
    "collapsed": false,
    "ExecuteTime": {
     "end_time": "2024-05-05T17:44:18.814329800Z",
     "start_time": "2024-05-05T17:43:52.946862900Z"
    }
   },
   "id": "941f842ffef1804b",
   "execution_count": 159
  },
  {
   "cell_type": "code",
   "outputs": [],
   "source": [
    "class SP100StocksForecasting(Dataset):\n",
    "\t\"\"\"\n",
    "\tStock price data for the S&P 100 companies.\n",
    "\tThe graph data built from the notebook is used.\n",
    "\t\"\"\"\n",
    "\tdef __init__(self, root: str = \"../data/SP100/\", values_file_name: str = \"values.csv\", adj_file_name: str = \"adj.npy\", time_window: int = 20):\n",
    "\t\tself.values_file_name = values_file_name\n",
    "\t\tself.adj_file_name = adj_file_name\n",
    "\t\tself.time_window = time_window\n",
    "\t\tsuper().__init__(root)\n",
    "\n",
    "\t@property\n",
    "\tdef processed_dir(self) -> str:\n",
    "\t\treturn osp.join(self.root, 'forecasting_processed')\n",
    "\t\n",
    "\t@property\n",
    "\tdef raw_file_names(self) -> list[str]:\n",
    "\t\treturn [\n",
    "\t\t\tself.values_file_name, self.adj_file_name\n",
    "\t\t]\n",
    "\n",
    "\t@property\n",
    "\tdef processed_file_names(self) -> list[str]:\n",
    "\t\treturn [\n",
    "\t\t\tf'forecasting_timestep_{idx}.pt' for idx in range(len(self))\n",
    "\t\t]\n",
    "\n",
    "\tdef download(self) -> None:\n",
    "\t\tpass\n",
    "\n",
    "\tdef process(self) -> None:\n",
    "\t\tvalues = pd.read_csv('../data/SP100/raw/values.csv').set_index(['Symbol', 'Date'])\n",
    "\t\tadj = np.load('../data/SP100/raw/adj.npy')\n",
    "\t\tnodes_nb, edge_nb = len(adj), np.count_nonzero(adj) // 2\n",
    "\t\tx = torch.tensor(\n",
    "\t\t\tvalues.drop(columns=[\"Close\"]).to_numpy().reshape((nodes_nb, -1, values.shape[1] - 1))\n",
    "\t\t)\n",
    "\t\tx = np.swapaxes(x, 1, 2)\n",
    "\t\tclose_prices = torch.tensor(\n",
    "\t\t\tvalues[[\"Close\"]].to_numpy().reshape((nodes_nb, -1))\n",
    "\t\t)\n",
    "\t\tedge_index, edge_weight = torch.zeros((2, edge_nb)), torch.zeros((edge_nb,))\n",
    "\t\tcount = 0\n",
    "\t\tfor i in range(nodes_nb):\n",
    "\t\t\tfor j in range(i + 1, nodes_nb):\n",
    "\t\t\t\tif (weight := adj[i, j]) != 0:\n",
    "\t\t\t\t\tedge_index[0, count], edge_index[1, count] = i, j\n",
    "\t\t\t\t\tedge_weight[count] = weight\n",
    "\t\t\t\t\tcount += 1\n",
    "\t\ttimestamps = [\n",
    "\t\t\tData(\n",
    "\t\t\t\tx=x[:, :, idx:idx + self.time_window], \n",
    "\t\t\t\tedge_index=edge_index, \n",
    "\t\t\t\tedge_weight=edge_weight, \n",
    "\t\t\t\tclose_price=close_prices[:, idx:idx + self.time_window],\n",
    "\t\t\t\ty=x[:, 0, idx + self.time_window],\n",
    "\t\t\t\tclose_price_y=close_prices[:, idx + self.time_window]\n",
    "\t\t\t) for idx in range(x.shape[2] - self.time_window)\n",
    "\t\t]\n",
    "\t\tfor t, timestep in enumerate(timestamps):\n",
    "\t\t\ttorch.save(\n",
    "\t\t\t\ttimestep, osp.join(self.processed_dir, f\"forecasting_timestep_{t}.pt\")\n",
    "\t\t\t)\n",
    "\t\t\n",
    "\tdef len(self) -> int:\n",
    "\t\tvalues = pd.read_csv(self.raw_paths[0]).set_index(['Symbol', 'Date'])\n",
    "\t\treturn len(values.loc[values.index[0][0]]) - self.time_window\n",
    "\n",
    "\tdef get(self, idx: int) -> Data:\n",
    "\t\tdata = torch.load(osp.join(self.processed_dir, f'forecasting_timestep_{idx}.pt'))\n",
    "\t\treturn data"
   ],
   "metadata": {
    "collapsed": false,
    "ExecuteTime": {
     "end_time": "2024-05-05T17:44:18.814329800Z",
     "start_time": "2024-05-05T17:44:18.782673400Z"
    }
   },
   "id": "2171a681bf840444",
   "execution_count": 160
  },
  {
   "cell_type": "code",
   "outputs": [
    {
     "name": "stderr",
     "output_type": "stream",
     "text": [
      "Processing...\n",
      "Done!\n"
     ]
    },
    {
     "data": {
      "text/plain": "(SP100StocksForecasting(1214),\n Data(x=[100, 6, 20], edge_index=[2, 1230], y=[100], edge_weight=[1230], close_price=[100, 20], close_price_y=[100]))"
     },
     "execution_count": 161,
     "metadata": {},
     "output_type": "execute_result"
    }
   ],
   "source": [
    "forecasting_dataset = SP100StocksForecasting()\n",
    "forecasting_dataset, forecasting_dataset[0]"
   ],
   "metadata": {
    "collapsed": false,
    "ExecuteTime": {
     "end_time": "2024-05-05T17:45:07.372829900Z",
     "start_time": "2024-05-05T17:44:18.786331200Z"
    }
   },
   "id": "c893f826fc7cc9ff",
   "execution_count": 161
  }
 ],
 "metadata": {
  "kernelspec": {
   "display_name": "Python 3",
   "language": "python",
   "name": "python3"
  },
  "language_info": {
   "codemirror_mode": {
    "name": "ipython",
    "version": 2
   },
   "file_extension": ".py",
   "mimetype": "text/x-python",
   "name": "python",
   "nbconvert_exporter": "python",
   "pygments_lexer": "ipython2",
   "version": "2.7.6"
  }
 },
 "nbformat": 4,
 "nbformat_minor": 5
}
