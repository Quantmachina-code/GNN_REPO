{
 "cells": [
  {
   "cell_type": "code",
   "execution_count": 1,
   "id": "initial_id",
   "metadata": {
    "collapsed": true,
    "ExecuteTime": {
     "end_time": "2024-05-11T16:36:31.854504100Z",
     "start_time": "2024-05-11T16:36:18.817487100Z"
    }
   },
   "outputs": [],
   "source": [
    "import numpy as np\n",
    "import torch.nn as nn\n",
    "import torch.optim as optim\n",
    "from torch_geometric.data import Data\n",
    "from torch_geometric.loader import DataLoader\n",
    "\n",
    "from datasets.SP100Stocks import SP100Stocks\n",
    "from notebooks.models import TGCN, A3TGCN, DCGNN, train, evaluate_classification"
   ]
  },
  {
   "cell_type": "markdown",
   "source": [
    "# Buy or Sell ? Stocks classifier\n",
    "The goal of this task is to classify stocks into buy or sell categories based on past performance. The model should predict if the next day is higher or lower than the current day, with past 5 weeks of knowledge. There are no patterns in stock movements, so neural networks have a hard time forecasting the next timestamps. The intuition is that they can, however, capture up/down trends."
   ],
   "metadata": {
    "collapsed": false
   },
   "id": "c131dcf02f1f4676"
  },
  {
   "cell_type": "markdown",
   "source": [
    "## Loading the data\n",
    "The data from the custom PyG dataset for forecasting is loaded into a PyTorch dataloader.\n",
    "A \"transform\" is applied to change the targets `y` of the dataset to a binary buy/sell class instead of the close price. "
   ],
   "metadata": {
    "collapsed": false
   },
   "id": "d226612314d578cf"
  },
  {
   "cell_type": "code",
   "outputs": [],
   "source": [
    "def future_close_price_to_buy_sell_class(sample: Data):\n",
    "\t\"\"\"\n",
    "\tTransforms the target y to a binary buy (1) / sell (0) class considering the close price at the end of the target vs. the last timestep of x\n",
    "\t:param sample: Data sample\n",
    "\t:return: The transformed sample\n",
    "\t\"\"\"\n",
    "\tsample.y = (sample.close_price_y[:, -1] > sample.close_price[:, -1]).float().unsqueeze(1)\n",
    "\treturn sample"
   ],
   "metadata": {
    "collapsed": false,
    "ExecuteTime": {
     "end_time": "2024-05-11T16:36:31.866205200Z",
     "start_time": "2024-05-11T16:36:31.859953800Z"
    }
   },
   "id": "2195ece62d9934b2",
   "execution_count": 2
  },
  {
   "cell_type": "code",
   "outputs": [
    {
     "data": {
      "text/plain": "(SP100Stocks(1209),\n Data(x=[100, 5, 25], edge_index=[2, 524], y=[100, 1], edge_weight=[524], close_price=[100, 25], close_price_y=[100, 1]))"
     },
     "execution_count": 3,
     "metadata": {},
     "output_type": "execute_result"
    }
   ],
   "source": [
    "dataset = SP100Stocks(transform=future_close_price_to_buy_sell_class)\n",
    "dataset, dataset[0]"
   ],
   "metadata": {
    "collapsed": false,
    "ExecuteTime": {
     "end_time": "2024-05-11T16:36:34.623578700Z",
     "start_time": "2024-05-11T16:36:31.866205200Z"
    }
   },
   "id": "9a3e4898f36d1351",
   "execution_count": 3
  },
  {
   "cell_type": "code",
   "outputs": [
    {
     "name": "stdout",
     "output_type": "stream",
     "text": [
      "Close price a time t: 48.95$ vs. Close price at time t+1: 50.06$, Target decision: 1.0 (Buy)\n",
      "Close price a time t: 55.46$ vs. Close price at time t+1: 55.02$, Target decision: 0.0 (Sell)\n",
      "Close price a time t: 80.67$ vs. Close price at time t+1: 81.20$, Target decision: 1.0 (Buy)\n",
      "Close price a time t: 180.94$ vs. Close price at time t+1: 181.42$, Target decision: 1.0 (Buy)\n",
      "Close price a time t: 306.87$ vs. Close price at time t+1: 308.55$, Target decision: 1.0 (Buy)\n"
     ]
    }
   ],
   "source": [
    "for i in range(5):\n",
    "\tprint(f\"Close price a time t: {dataset[0].close_price[i, -1:].item():.2f}$ vs. Close price at time t+1: {dataset[0].close_price_y[i, -1:].item():.2f}$, Target decision: {dataset[0].y[i].item()} ({['Sell', 'Buy'][dataset[0].y[i].long()]})\")"
   ],
   "metadata": {
    "collapsed": false,
    "ExecuteTime": {
     "end_time": "2024-05-11T16:36:46.390971Z",
     "start_time": "2024-05-11T16:36:34.626690300Z"
    }
   },
   "id": "57da3cdd002c63a",
   "execution_count": 4
  },
  {
   "cell_type": "code",
   "outputs": [
    {
     "name": "stdout",
     "output_type": "stream",
     "text": [
      "Train dataset: 1088, Test dataset: 121\n"
     ]
    }
   ],
   "source": [
    "train_part = .9\n",
    "batch_size = 64\n",
    "\n",
    "train_dataset, test_dataset = dataset[:int(train_part * len(dataset))], dataset[int(train_part * len(dataset)):]\n",
    "print(f\"Train dataset: {len(train_dataset)}, Test dataset: {len(test_dataset)}\")\n",
    "train_dataloader, test_dataloader = DataLoader(train_dataset, batch_size=batch_size, shuffle=True), DataLoader(test_dataset, batch_size=len(test_dataset), shuffle=True)"
   ],
   "metadata": {
    "collapsed": false,
    "ExecuteTime": {
     "end_time": "2024-05-11T16:36:48.759971600Z",
     "start_time": "2024-05-11T16:36:46.400209800Z"
    }
   },
   "id": "c19ec7f01b687546",
   "execution_count": 5
  },
  {
   "cell_type": "markdown",
   "source": [
    "## Training\n",
    "The previously implemented models are used, trained using the training dataset and the Adam optimizer. The `weight_decay` parameter is used for L2 regularization, to follow the T-GCN papers methodology. The loss is calculated using the Binary Cross Entropy (BCE) loss function."
   ],
   "metadata": {
    "collapsed": false
   },
   "id": "c397fdede6ac75ca"
  },
  {
   "cell_type": "code",
   "outputs": [
    {
     "data": {
      "text/plain": "A3TGCN(\n  (cells): ModuleList(\n    (0): TGCNCell(\n      (gcn): GCN(\n        (convs): ModuleList(\n          (0): GCNConv(5, 16)\n          (1): GCNConv(16, 16)\n        )\n      )\n      (lin_u): Linear(in_features=37, out_features=16, bias=True)\n      (lin_r): Linear(in_features=37, out_features=16, bias=True)\n      (lin_c): Linear(in_features=37, out_features=16, bias=True)\n    )\n    (1): TGCNCell(\n      (gcn): GCN(\n        (convs): ModuleList(\n          (0-1): 2 x GCNConv(16, 16)\n        )\n      )\n      (lin_u): Linear(in_features=48, out_features=16, bias=True)\n      (lin_r): Linear(in_features=48, out_features=16, bias=True)\n      (lin_c): Linear(in_features=48, out_features=16, bias=True)\n    )\n  )\n  (attention): Sequential(\n    (0): Linear(in_features=16, out_features=1, bias=True)\n    (1): Softmax(dim=1)\n  )\n  (out): Linear(in_features=16, out_features=1, bias=True)\n)"
     },
     "execution_count": 6,
     "metadata": {},
     "output_type": "execute_result"
    }
   ],
   "source": [
    "in_channels, out_channels, hidden_size, layers_nb = dataset[0].x.shape[-2], 1, 16, 2\n",
    "model = A3TGCN(in_channels, out_channels, hidden_size, layers_nb)\n",
    "\n",
    "lr, weight_decay, num_epochs = 0.005, 1e-5, 64\n",
    "\n",
    "criterion = nn.BCEWithLogitsLoss()\n",
    "optimizer = optim.Adam(model.parameters(), lr=lr, weight_decay=weight_decay)\n",
    "model"
   ],
   "metadata": {
    "collapsed": false,
    "ExecuteTime": {
     "end_time": "2024-05-11T16:36:49.519266500Z",
     "start_time": "2024-05-11T16:36:48.758916200Z"
    }
   },
   "id": "5ee53da575f395ba",
   "execution_count": 6
  },
  {
   "cell_type": "code",
   "outputs": [
    {
     "name": "stderr",
     "output_type": "stream",
     "text": [
      "Epochs:  53%|█████▎    | 34/64 [32:02<28:07, 56.25s/it, Batch=11.8%] "
     ]
    }
   ],
   "source": [
    "train(model, optimizer, criterion, train_dataloader, test_dataloader, num_epochs, \"BuyOrSell\", measure_acc=True)"
   ],
   "metadata": {
    "collapsed": false,
    "is_executing": true,
    "ExecuteTime": {
     "start_time": "2024-05-11T16:36:49.521405800Z"
    }
   },
   "id": "b9a14e708ed5751a",
   "execution_count": null
  },
  {
   "cell_type": "markdown",
   "source": [
    "## Results"
   ],
   "metadata": {
    "collapsed": false
   },
   "id": "bc8d5b036ec061a8"
  },
  {
   "cell_type": "markdown",
   "source": [
    "### Results on train data"
   ],
   "metadata": {
    "collapsed": false
   },
   "id": "4a48317a251f7ffb"
  },
  {
   "cell_type": "code",
   "outputs": [],
   "source": [
    "acc, tp, tn, fp, fn = evaluate_classification(model, train_dataloader)\n",
    "\n",
    "print(f\"Train accuracy: {acc * 100:.1f}%\\nTrain confusion matrix:\\n{np.array([[tn, fp], [fn, tp]])}\")"
   ],
   "metadata": {
    "collapsed": false,
    "is_executing": true
   },
   "id": "8023d2cf30e5bed9",
   "execution_count": null
  },
  {
   "cell_type": "markdown",
   "source": [
    "### Results on test data"
   ],
   "metadata": {
    "collapsed": false
   },
   "id": "a686b22706591186"
  },
  {
   "cell_type": "code",
   "outputs": [],
   "source": [
    "acc, tp, tn, fp, fn = evaluate_classification(model, test_dataloader)\n",
    "\n",
    "print(f\"Test accuracy: {acc * 100:.1f}%\\nTest confusion matrix:\\n{np.array([[tn, fp], [fn, tp]])}\")"
   ],
   "metadata": {
    "collapsed": false,
    "is_executing": true
   },
   "id": "e35e29096a020f59",
   "execution_count": null
  }
 ],
 "metadata": {
  "kernelspec": {
   "display_name": "Python 3",
   "language": "python",
   "name": "python3"
  },
  "language_info": {
   "codemirror_mode": {
    "name": "ipython",
    "version": 2
   },
   "file_extension": ".py",
   "mimetype": "text/x-python",
   "name": "python",
   "nbconvert_exporter": "python",
   "pygments_lexer": "ipython2",
   "version": "2.7.6"
  }
 },
 "nbformat": 4,
 "nbformat_minor": 5
}
