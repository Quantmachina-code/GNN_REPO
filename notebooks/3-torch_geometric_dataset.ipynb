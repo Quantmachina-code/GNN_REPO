{
 "cells": [
  {
   "cell_type": "code",
   "execution_count": 14,
   "id": "initial_id",
   "metadata": {
    "collapsed": true,
    "ExecuteTime": {
     "end_time": "2024-05-06T09:11:15.299119700Z",
     "start_time": "2024-05-06T09:11:15.140297800Z"
    }
   },
   "outputs": [],
   "source": [
    "import numpy as np\n",
    "import pandas as pd\n",
    "from torch_geometric.data import Data"
   ]
  },
  {
   "cell_type": "markdown",
   "source": [
    "# PyTorch Geometric custom Dataset\n",
    "This module illustrates the process part of the custom dataset creation for PyG done in the `datasets/SP100Stocks.py` file.\n",
    "The Dataset class is used to create a custom dataset and use it with PyG modules.\n",
    "**Note: To use this notebook, first execute notebooks 1 and 2.**"
   ],
   "metadata": {
    "collapsed": false
   },
   "id": "db2c911eeece5042"
  },
  {
   "cell_type": "markdown",
   "source": [
    "## Processing the graph data\n",
    "The next cells demonstrate the adjacency matrix and historical values processing done in the `Dataset.process(*)` method.   "
   ],
   "metadata": {
    "collapsed": false
   },
   "id": "f0d5871931936f9b"
  },
  {
   "cell_type": "markdown",
   "source": [
    "### Opening the historical values and the adjacency matrix\n",
    "The goal is here to create T (the number of timestamps) graphs, one for each timestep. We use the same adjacency matrix for all the graphs as the structure is based on fundamentals and will not change."
   ],
   "metadata": {
    "collapsed": false
   },
   "id": "d0dbd3cc8fd5b29b"
  },
  {
   "cell_type": "code",
   "outputs": [
    {
     "data": {
      "text/plain": "                                      Close    Volume  Variation       RSI  \\\nSymbol Date                                                                  \nAAPL   2019-06-11 00:00:00-04:00  47.066406  0.195638   1.157954  0.594734   \n       2019-06-12 00:00:00-04:00  46.916611 -0.472454  -0.318264  0.583427   \n       2019-06-13 00:00:00-04:00  46.906948 -0.209103  -0.020595  0.582657   \n       2019-06-14 00:00:00-04:00  46.566288 -0.433329  -0.726247  0.554870   \n       2019-06-17 00:00:00-04:00  46.844120 -0.748329   0.596638  0.572766   \n\n                                      MACD  BhB  BlB  \nSymbol Date                                           \nAAPL   2019-06-11 00:00:00-04:00 -0.578352  0.0  0.0  \n       2019-06-12 00:00:00-04:00 -0.379582  0.0  0.0  \n       2019-06-13 00:00:00-04:00 -0.220295  0.0  0.0  \n       2019-06-14 00:00:00-04:00 -0.120162  0.0  0.0  \n       2019-06-17 00:00:00-04:00 -0.018178  0.0  0.0  ",
      "text/html": "<div>\n<style scoped>\n    .dataframe tbody tr th:only-of-type {\n        vertical-align: middle;\n    }\n\n    .dataframe tbody tr th {\n        vertical-align: top;\n    }\n\n    .dataframe thead th {\n        text-align: right;\n    }\n</style>\n<table border=\"1\" class=\"dataframe\">\n  <thead>\n    <tr style=\"text-align: right;\">\n      <th></th>\n      <th></th>\n      <th>Close</th>\n      <th>Volume</th>\n      <th>Variation</th>\n      <th>RSI</th>\n      <th>MACD</th>\n      <th>BhB</th>\n      <th>BlB</th>\n    </tr>\n    <tr>\n      <th>Symbol</th>\n      <th>Date</th>\n      <th></th>\n      <th></th>\n      <th></th>\n      <th></th>\n      <th></th>\n      <th></th>\n      <th></th>\n    </tr>\n  </thead>\n  <tbody>\n    <tr>\n      <th rowspan=\"5\" valign=\"top\">AAPL</th>\n      <th>2019-06-11 00:00:00-04:00</th>\n      <td>47.066406</td>\n      <td>0.195638</td>\n      <td>1.157954</td>\n      <td>0.594734</td>\n      <td>-0.578352</td>\n      <td>0.0</td>\n      <td>0.0</td>\n    </tr>\n    <tr>\n      <th>2019-06-12 00:00:00-04:00</th>\n      <td>46.916611</td>\n      <td>-0.472454</td>\n      <td>-0.318264</td>\n      <td>0.583427</td>\n      <td>-0.379582</td>\n      <td>0.0</td>\n      <td>0.0</td>\n    </tr>\n    <tr>\n      <th>2019-06-13 00:00:00-04:00</th>\n      <td>46.906948</td>\n      <td>-0.209103</td>\n      <td>-0.020595</td>\n      <td>0.582657</td>\n      <td>-0.220295</td>\n      <td>0.0</td>\n      <td>0.0</td>\n    </tr>\n    <tr>\n      <th>2019-06-14 00:00:00-04:00</th>\n      <td>46.566288</td>\n      <td>-0.433329</td>\n      <td>-0.726247</td>\n      <td>0.554870</td>\n      <td>-0.120162</td>\n      <td>0.0</td>\n      <td>0.0</td>\n    </tr>\n    <tr>\n      <th>2019-06-17 00:00:00-04:00</th>\n      <td>46.844120</td>\n      <td>-0.748329</td>\n      <td>0.596638</td>\n      <td>0.572766</td>\n      <td>-0.018178</td>\n      <td>0.0</td>\n      <td>0.0</td>\n    </tr>\n  </tbody>\n</table>\n</div>"
     },
     "execution_count": 15,
     "metadata": {},
     "output_type": "execute_result"
    }
   ],
   "source": [
    "values = pd.read_csv('../data/SP100/raw/values.csv').set_index(['Symbol', 'Date'])\n",
    "values.head()"
   ],
   "metadata": {
    "collapsed": false,
    "ExecuteTime": {
     "end_time": "2024-05-06T09:11:16.150473700Z",
     "start_time": "2024-05-06T09:11:15.306224800Z"
    }
   },
   "id": "f9ae698bfd8614ed",
   "execution_count": 15
  },
  {
   "cell_type": "code",
   "outputs": [
    {
     "data": {
      "text/plain": "array([[0.        , 0.        , 0.        , 0.25805462, 0.25805462],\n       [0.        , 0.        , 0.51610923, 0.        , 0.        ],\n       [0.        , 0.51610923, 0.        , 0.        , 0.        ],\n       [0.25805462, 0.        , 0.        , 0.        , 0.51610923],\n       [0.25805462, 0.        , 0.        , 0.51610923, 0.        ]])"
     },
     "execution_count": 16,
     "metadata": {},
     "output_type": "execute_result"
    }
   ],
   "source": [
    "adj = np.load('../data/SP100/raw/adj.npy')\n",
    "adj[:5, :5]"
   ],
   "metadata": {
    "collapsed": false,
    "ExecuteTime": {
     "end_time": "2024-05-06T09:11:16.153466300Z",
     "start_time": "2024-05-06T09:11:16.144170400Z"
    }
   },
   "id": "e62d8b9de2cf6f8f",
   "execution_count": 16
  },
  {
   "cell_type": "markdown",
   "source": [
    "### Creating the feature matrix and edge indices\n",
    "The feature matrix is a 3d matrix of shape (timestamps_nb, stocks_nb, features_nb). The adjacency matrix is used to create the edge_index matrix in the PyTorch Geomtric format."
   ],
   "metadata": {
    "collapsed": false
   },
   "id": "70d75e9347a5fdaa"
  },
  {
   "cell_type": "code",
   "outputs": [
    {
     "data": {
      "text/plain": "((1234, 100, 6), (2, 2460), (2460,))"
     },
     "execution_count": 17,
     "metadata": {},
     "output_type": "execute_result"
    }
   ],
   "source": [
    "nodes_nb = len(adj)\n",
    "x = np.array(\n",
    "\tvalues.drop(columns=[\"Close\"]).to_numpy().reshape((nodes_nb, -1, values.shape[1] - 1))\n",
    ")  # shape (nodes_nb, timestamps_nb, features_nb)\n",
    "x = np.swapaxes(x, 0, 1)  # shape (timestamps_nb, nodes_nb, features_nb)\n",
    "\n",
    "edge_nb = np.count_nonzero(adj)\n",
    "edge_index = np.zeros((2, edge_nb))\n",
    "edge_weight = np.zeros((edge_nb,))\n",
    "count = 0\n",
    "for i in range(nodes_nb):\n",
    "\tfor j in range(nodes_nb):\n",
    "\t\tif (weight := adj[i, j]) != 0:\n",
    "\t\t\tedge_index[0, count], edge_index[1, count] = i, j\n",
    "\t\t\tedge_weight[count] = weight\n",
    "\t\t\tcount += 1\n",
    "x.shape, edge_index.shape, edge_weight.shape"
   ],
   "metadata": {
    "collapsed": false,
    "ExecuteTime": {
     "end_time": "2024-05-06T09:11:16.240690400Z",
     "start_time": "2024-05-06T09:11:16.160000700Z"
    }
   },
   "id": "a7e77ff7de8e4885",
   "execution_count": 17
  },
  {
   "cell_type": "markdown",
   "source": [
    "### Building the graphs\n",
    "Finally, the graphs can be built using the Data class for PyG."
   ],
   "metadata": {
    "collapsed": false
   },
   "id": "571cd2502ef4162b"
  },
  {
   "cell_type": "code",
   "outputs": [
    {
     "data": {
      "text/plain": "[Data(x=[100, 6], edge_index=[2, 2460], edge_weight=[2460]),\n Data(x=[100, 6], edge_index=[2, 2460], edge_weight=[2460]),\n Data(x=[100, 6], edge_index=[2, 2460], edge_weight=[2460]),\n Data(x=[100, 6], edge_index=[2, 2460], edge_weight=[2460]),\n Data(x=[100, 6], edge_index=[2, 2460], edge_weight=[2460])]"
     },
     "execution_count": 18,
     "metadata": {},
     "output_type": "execute_result"
    }
   ],
   "source": [
    "timestamps = [\n",
    "\tData(x=x[idx, :, :], edge_index=edge_index, edge_weight=edge_weight) for idx in range(x.shape[0])\n",
    "]\n",
    "timestamps[:5]"
   ],
   "metadata": {
    "collapsed": false,
    "ExecuteTime": {
     "end_time": "2024-05-06T09:11:16.454619400Z",
     "start_time": "2024-05-06T09:11:16.193581500Z"
    }
   },
   "id": "320af29b230149e4",
   "execution_count": 18
  },
  {
   "cell_type": "code",
   "outputs": [
    {
     "data": {
      "text/plain": "[Data(x=[10, 100, 6], edge_index=[2, 2460], y=[100, 1], edge_weight=[2460]),\n Data(x=[10, 100, 6], edge_index=[2, 2460], y=[100, 1], edge_weight=[2460]),\n Data(x=[10, 100, 6], edge_index=[2, 2460], y=[100, 1], edge_weight=[2460]),\n Data(x=[10, 100, 6], edge_index=[2, 2460], y=[100, 1], edge_weight=[2460]),\n Data(x=[10, 100, 6], edge_index=[2, 2460], y=[100, 1], edge_weight=[2460])]"
     },
     "execution_count": 19,
     "metadata": {},
     "output_type": "execute_result"
    }
   ],
   "source": [
    "time_window = 10\n",
    "forecasting_timestamps = [\n",
    "\tData(x=x[idx:idx+time_window, :, :], edge_index=edge_index, edge_weight=edge_weight, y=x[idx+time_window, :, 0:1]) for idx in range(x.shape[0] - time_window)\n",
    "]\n",
    "forecasting_timestamps[:5]"
   ],
   "metadata": {
    "collapsed": false,
    "ExecuteTime": {
     "end_time": "2024-05-06T09:11:16.456613800Z",
     "start_time": "2024-05-06T09:11:16.249912200Z"
    }
   },
   "id": "13c180da9a448d2c",
   "execution_count": 19
  },
  {
   "cell_type": "markdown",
   "source": [
    "## Defining the PyTorch Geometric datasets\n",
    "The previously defined method is used to process the data and create a standard PyG Dataset class.\n",
    "Two datasets are defined:\n",
    "- The first dataset contains graphs with data for a single timestamps.\n",
    "- The second dataset contains graphs with 3d node features -- data for the timestamps $[\\![t, t+T[\\![$ -- and a target variable -- the variation at time $t+T$ -- used for forecasting.\n",
    "\n",
    "These datasets are used in the next notebooks to train and evaluate the forecasting model. The code is in the `datasets/SP100Stocks.py` and `datasets/SP100StocksForecasting.py` files."
   ],
   "metadata": {
    "collapsed": false
   },
   "id": "5d2e96ceeac9e9dc"
  },
  {
   "cell_type": "code",
   "outputs": [],
   "source": [
    "from datasets.SP100Stocks import SP100Stocks\n",
    "from datasets.SP100StocksForecasting import SP100StocksForecasting"
   ],
   "metadata": {
    "collapsed": false,
    "ExecuteTime": {
     "end_time": "2024-05-06T09:11:16.457612400Z",
     "start_time": "2024-05-06T09:11:16.320062100Z"
    }
   },
   "id": "1c33410e2089e910",
   "execution_count": 20
  },
  {
   "cell_type": "code",
   "outputs": [
    {
     "data": {
      "text/plain": "(SP100Stocks(1234),\n Data(x=[100, 6], edge_index=[2, 2460], edge_weight=[2460], close_price=[100]))"
     },
     "execution_count": 21,
     "metadata": {},
     "output_type": "execute_result"
    }
   ],
   "source": [
    "dataset = SP100Stocks()\n",
    "dataset, dataset[0]"
   ],
   "metadata": {
    "collapsed": false,
    "ExecuteTime": {
     "end_time": "2024-05-06T09:11:18.454044900Z",
     "start_time": "2024-05-06T09:11:16.329226500Z"
    }
   },
   "id": "259c6749e3cd8c3b",
   "execution_count": 21
  },
  {
   "cell_type": "code",
   "outputs": [
    {
     "data": {
      "text/plain": "(SP100StocksForecasting(1214),\n Data(x=[20, 100, 6], edge_index=[2, 2460], y=[100, 1], edge_weight=[2460], close_price=[100, 20], close_price_y=[100, 1]))"
     },
     "execution_count": 23,
     "metadata": {},
     "output_type": "execute_result"
    }
   ],
   "source": [
    "forecasting_dataset = SP100StocksForecasting()\n",
    "forecasting_dataset, forecasting_dataset[0]"
   ],
   "metadata": {
    "collapsed": false,
    "ExecuteTime": {
     "end_time": "2024-05-06T09:12:29.908472100Z",
     "start_time": "2024-05-06T09:12:28.824245500Z"
    }
   },
   "id": "40993d6a5923286b",
   "execution_count": 23
  }
 ],
 "metadata": {
  "kernelspec": {
   "display_name": "Python 3",
   "language": "python",
   "name": "python3"
  },
  "language_info": {
   "codemirror_mode": {
    "name": "ipython",
    "version": 2
   },
   "file_extension": ".py",
   "mimetype": "text/x-python",
   "name": "python",
   "nbconvert_exporter": "python",
   "pygments_lexer": "ipython2",
   "version": "2.7.6"
  }
 },
 "nbformat": 4,
 "nbformat_minor": 5
}
