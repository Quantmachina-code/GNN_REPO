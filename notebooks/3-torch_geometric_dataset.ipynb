{
 "cells": [
  {
   "cell_type": "code",
   "execution_count": 1,
   "id": "initial_id",
   "metadata": {
    "collapsed": true,
    "ExecuteTime": {
     "end_time": "2024-05-09T22:00:16.395979Z",
     "start_time": "2024-05-09T22:00:08.175450Z"
    }
   },
   "outputs": [],
   "source": [
    "import numpy as np\n",
    "import pandas as pd\n",
    "from torch_geometric.data import Data"
   ]
  },
  {
   "cell_type": "markdown",
   "source": [
    "# PyTorch Geometric custom Dataset\n",
    "This module illustrates the process part of the custom dataset creation for PyG done in the `datasets/SP100Stocks.py` file.\n",
    "The Dataset class is used to create a custom dataset and use it with PyG modules.\n",
    "**Note: To use this notebook, first execute notebooks 1 and 2.**"
   ],
   "metadata": {
    "collapsed": false
   },
   "id": "db2c911eeece5042"
  },
  {
   "cell_type": "markdown",
   "source": [
    "## Processing the graph data\n",
    "The next cells demonstrate the adjacency matrix and historical values processing done in the `Dataset.process(*)` method.   "
   ],
   "metadata": {
    "collapsed": false
   },
   "id": "f0d5871931936f9b"
  },
  {
   "cell_type": "markdown",
   "source": [
    "### Opening the historical values and the adjacency matrix\n",
    "The goal is here to create T (the number of timestamps) graphs, one for each timestep. We use the same adjacency matrix for all the graphs as the structure is based on fundamentals and will not change."
   ],
   "metadata": {
    "collapsed": false
   },
   "id": "d0dbd3cc8fd5b29b"
  },
  {
   "cell_type": "code",
   "outputs": [
    {
     "data": {
      "text/plain": "                                      Close    Volume  NormClose  Variation  \\\nSymbol Date                                                                   \nAAPL   2019-06-14 00:00:00-04:00  46.566284 -0.429424  -1.935729  -0.726247   \n       2019-06-17 00:00:00-04:00  46.844120 -0.744399  -1.929356   0.596646   \n       2019-06-18 00:00:00-04:00  47.945831  0.170103  -1.904087   2.351867   \n       2019-06-19 00:00:00-04:00  47.805706 -0.247576  -1.907301  -0.292257   \n       2019-06-20 00:00:00-04:00  48.189846 -0.217575  -1.898490   0.803544   \n\n                                       RSI      MACD  \nSymbol Date                                           \nAAPL   2019-06-14 00:00:00-04:00  0.576175  0.087058  \n       2019-06-17 00:00:00-04:00  0.593847  0.175231  \n       2019-06-18 00:00:00-04:00  0.655235  0.330202  \n       2019-06-19 00:00:00-04:00  0.641945  0.436677  \n       2019-06-20 00:00:00-04:00  0.662174  0.545765  ",
      "text/html": "<div>\n<style scoped>\n    .dataframe tbody tr th:only-of-type {\n        vertical-align: middle;\n    }\n\n    .dataframe tbody tr th {\n        vertical-align: top;\n    }\n\n    .dataframe thead th {\n        text-align: right;\n    }\n</style>\n<table border=\"1\" class=\"dataframe\">\n  <thead>\n    <tr style=\"text-align: right;\">\n      <th></th>\n      <th></th>\n      <th>Close</th>\n      <th>Volume</th>\n      <th>NormClose</th>\n      <th>Variation</th>\n      <th>RSI</th>\n      <th>MACD</th>\n    </tr>\n    <tr>\n      <th>Symbol</th>\n      <th>Date</th>\n      <th></th>\n      <th></th>\n      <th></th>\n      <th></th>\n      <th></th>\n      <th></th>\n    </tr>\n  </thead>\n  <tbody>\n    <tr>\n      <th rowspan=\"5\" valign=\"top\">AAPL</th>\n      <th>2019-06-14 00:00:00-04:00</th>\n      <td>46.566284</td>\n      <td>-0.429424</td>\n      <td>-1.935729</td>\n      <td>-0.726247</td>\n      <td>0.576175</td>\n      <td>0.087058</td>\n    </tr>\n    <tr>\n      <th>2019-06-17 00:00:00-04:00</th>\n      <td>46.844120</td>\n      <td>-0.744399</td>\n      <td>-1.929356</td>\n      <td>0.596646</td>\n      <td>0.593847</td>\n      <td>0.175231</td>\n    </tr>\n    <tr>\n      <th>2019-06-18 00:00:00-04:00</th>\n      <td>47.945831</td>\n      <td>0.170103</td>\n      <td>-1.904087</td>\n      <td>2.351867</td>\n      <td>0.655235</td>\n      <td>0.330202</td>\n    </tr>\n    <tr>\n      <th>2019-06-19 00:00:00-04:00</th>\n      <td>47.805706</td>\n      <td>-0.247576</td>\n      <td>-1.907301</td>\n      <td>-0.292257</td>\n      <td>0.641945</td>\n      <td>0.436677</td>\n    </tr>\n    <tr>\n      <th>2019-06-20 00:00:00-04:00</th>\n      <td>48.189846</td>\n      <td>-0.217575</td>\n      <td>-1.898490</td>\n      <td>0.803544</td>\n      <td>0.662174</td>\n      <td>0.545765</td>\n    </tr>\n  </tbody>\n</table>\n</div>"
     },
     "execution_count": 2,
     "metadata": {},
     "output_type": "execute_result"
    }
   ],
   "source": [
    "values = pd.read_csv('../data/SP100/raw/values.csv').set_index(['Symbol', 'Date'])\n",
    "values.head()"
   ],
   "metadata": {
    "collapsed": false,
    "ExecuteTime": {
     "end_time": "2024-05-09T22:00:16.700028600Z",
     "start_time": "2024-05-09T22:00:16.398970500Z"
    }
   },
   "id": "f9ae698bfd8614ed",
   "execution_count": 2
  },
  {
   "cell_type": "code",
   "outputs": [
    {
     "data": {
      "text/plain": "array([[0., 0., 0., 0., 0.],\n       [0., 0., 0., 0., 0.],\n       [0., 0., 0., 0., 0.],\n       [0., 0., 0., 0., 0.],\n       [0., 0., 0., 0., 0.]])"
     },
     "execution_count": 3,
     "metadata": {},
     "output_type": "execute_result"
    }
   ],
   "source": [
    "adj = np.load('../data/SP100/raw/adj.npy')\n",
    "adj[:5, :5]"
   ],
   "metadata": {
    "collapsed": false,
    "ExecuteTime": {
     "end_time": "2024-05-09T22:00:16.701026500Z",
     "start_time": "2024-05-09T22:00:16.690329700Z"
    }
   },
   "id": "e62d8b9de2cf6f8f",
   "execution_count": 3
  },
  {
   "cell_type": "markdown",
   "source": [
    "### Creating the feature matrix and edge indices\n",
    "The feature matrix is a 3d matrix of shape (timestamps_nb, stocks_nb, features_nb). The adjacency matrix is used to create the edge_index matrix in the PyTorch Geomtric format."
   ],
   "metadata": {
    "collapsed": false
   },
   "id": "70d75e9347a5fdaa"
  },
  {
   "cell_type": "code",
   "outputs": [
    {
     "data": {
      "text/plain": "((100, 5, 1235), (2, 524), (524,))"
     },
     "execution_count": 4,
     "metadata": {},
     "output_type": "execute_result"
    }
   ],
   "source": [
    "nodes_nb = len(adj)\n",
    "x = np.array(\n",
    "\tvalues.drop(columns=[\"Close\"]).to_numpy().reshape((nodes_nb, -1, values.shape[1] - 1))\n",
    ")  # shape (nodes_nb, timestamps_nb, features_nb)\n",
    "x = np.swapaxes(x, 1, 2)  # shape (nodes_nb, features_nb, timestamps_nb)\n",
    "\n",
    "edge_nb = np.count_nonzero(adj)\n",
    "edge_index = np.zeros((2, edge_nb))\n",
    "edge_weight = np.zeros((edge_nb,))\n",
    "count = 0\n",
    "for i in range(nodes_nb):\n",
    "\tfor j in range(nodes_nb):\n",
    "\t\tif (weight := adj[i, j]) != 0:\n",
    "\t\t\tedge_index[0, count], edge_index[1, count] = i, j\n",
    "\t\t\tedge_weight[count] = weight\n",
    "\t\t\tcount += 1\n",
    "x.shape, edge_index.shape, edge_weight.shape"
   ],
   "metadata": {
    "collapsed": false,
    "ExecuteTime": {
     "end_time": "2024-05-09T22:00:16.730543300Z",
     "start_time": "2024-05-09T22:00:16.700028600Z"
    }
   },
   "id": "a7e77ff7de8e4885",
   "execution_count": 4
  },
  {
   "cell_type": "markdown",
   "source": [
    "### Building the graphs\n",
    "Finally, the graphs can be built using the Data class for PyG."
   ],
   "metadata": {
    "collapsed": false
   },
   "id": "571cd2502ef4162b"
  },
  {
   "cell_type": "code",
   "outputs": [
    {
     "data": {
      "text/plain": "[Data(x=[100, 5, 25], edge_index=[2, 524], y=[100, 1, 1], edge_weight=[524]),\n Data(x=[100, 5, 25], edge_index=[2, 524], y=[100, 1, 1], edge_weight=[524]),\n Data(x=[100, 5, 25], edge_index=[2, 524], y=[100, 1, 1], edge_weight=[524]),\n Data(x=[100, 5, 25], edge_index=[2, 524], y=[100, 1, 1], edge_weight=[524]),\n Data(x=[100, 5, 25], edge_index=[2, 524], y=[100, 1, 1], edge_weight=[524])]"
     },
     "execution_count": 5,
     "metadata": {},
     "output_type": "execute_result"
    }
   ],
   "source": [
    "past_window, future_window = 25, 1\n",
    "timestamps = [\n",
    "\tData(x=x[:, :, idx:idx+past_window], edge_index=edge_index, edge_weight=edge_weight, y=x[:, 1:2, idx+past_window:idx+past_window+future_window]) for idx in range(x.shape[0] - past_window - future_window)\n",
    "]\n",
    "timestamps[:5]"
   ],
   "metadata": {
    "collapsed": false,
    "ExecuteTime": {
     "end_time": "2024-05-09T22:00:16.748008200Z",
     "start_time": "2024-05-09T22:00:16.723312500Z"
    }
   },
   "id": "13c180da9a448d2c",
   "execution_count": 5
  },
  {
   "cell_type": "markdown",
   "source": [
    "## Defining the PyTorch Geometric datasets\n",
    "The previously defined method is used to process the data and create a standard PyG Dataset class.\n",
    "The dataset contains graphs with 3d node features -- data for the timestamps $[\\![t, t+T[\\![$ -- and a target variable -- the variation at time $t+T$ --.\n",
    "\n",
    "These dataset is used in the next notebooks. The code is in the `datasets/SP100Stocks.py` file."
   ],
   "metadata": {
    "collapsed": false
   },
   "id": "5d2e96ceeac9e9dc"
  },
  {
   "cell_type": "code",
   "outputs": [],
   "source": [
    "from datasets.SP100Stocks import SP100Stocks"
   ],
   "metadata": {
    "collapsed": false,
    "ExecuteTime": {
     "end_time": "2024-05-09T22:00:16.783911100Z",
     "start_time": "2024-05-09T22:00:16.735533100Z"
    }
   },
   "id": "1c33410e2089e910",
   "execution_count": 6
  },
  {
   "cell_type": "code",
   "outputs": [
    {
     "name": "stderr",
     "output_type": "stream",
     "text": [
      "Processing...\n",
      "Done!\n"
     ]
    },
    {
     "data": {
      "text/plain": "(SP100Stocks(1209),\n Data(x=[100, 5, 25], edge_index=[2, 524], y=[100, 1], edge_weight=[524], close_price=[100, 25], close_price_y=[100, 1]))"
     },
     "execution_count": 7,
     "metadata": {},
     "output_type": "execute_result"
    }
   ],
   "source": [
    "dataset = SP100Stocks()\n",
    "dataset, dataset[0]"
   ],
   "metadata": {
    "collapsed": false,
    "ExecuteTime": {
     "end_time": "2024-05-09T22:00:27.753387300Z",
     "start_time": "2024-05-09T22:00:16.749004700Z"
    }
   },
   "id": "259c6749e3cd8c3b",
   "execution_count": 7
  }
 ],
 "metadata": {
  "kernelspec": {
   "display_name": "Python 3",
   "language": "python",
   "name": "python3"
  },
  "language_info": {
   "codemirror_mode": {
    "name": "ipython",
    "version": 2
   },
   "file_extension": ".py",
   "mimetype": "text/x-python",
   "name": "python",
   "nbconvert_exporter": "python",
   "pygments_lexer": "ipython2",
   "version": "2.7.6"
  }
 },
 "nbformat": 4,
 "nbformat_minor": 5
}
