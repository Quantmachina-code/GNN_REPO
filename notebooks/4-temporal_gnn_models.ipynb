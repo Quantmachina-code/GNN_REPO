{
 "cells": [
  {
   "cell_type": "code",
   "execution_count": 7,
   "id": "initial_id",
   "metadata": {
    "collapsed": true,
    "ExecuteTime": {
     "end_time": "2024-05-08T15:40:57.258807100Z",
     "start_time": "2024-05-08T15:40:57.251201600Z"
    }
   },
   "outputs": [],
   "source": [
    "import torch\n",
    "import torch.nn as nn\n",
    "import torch.nn.functional as F\n",
    "from torch_geometric.nn import GCNConv"
   ]
  },
  {
   "cell_type": "markdown",
   "source": [
    "# Temporal Graph Neural Network models\n",
    "This notebook will present an implementation of different Temporal Graph Neural Network (TGNN) models, that will be used in the next notebooks."
   ],
   "metadata": {
    "collapsed": false
   },
   "id": "336ef8b1ba245641"
  },
  {
   "cell_type": "markdown",
   "source": [
    "## Graph Convolutional Network (GCN)\n",
    "We define a simple Graph Convolutional Network (GCN) model, that will be used as a building block for the Temporal Graph Convolutional Network (T-GCN) model."
   ],
   "metadata": {
    "collapsed": false
   },
   "id": "8b580204a4e3f0ca"
  },
  {
   "cell_type": "code",
   "outputs": [],
   "source": [
    "class GCN(nn.Module):\n",
    "\t\"\"\"\n",
    "\tSimple two layers GCN model.\n",
    "\t\"\"\"\n",
    "\tdef __init__(self, in_channels: int, layer_sizes: list[int] = None):\n",
    "\t\tsuper(GCN, self).__init__()\n",
    "\t\tlayer_sizes = layer_sizes or [32, 32]\n",
    "\t\tself.convs = nn.ModuleList([\n",
    "\t\t\tGCNConv(in_channels, layer_sizes[0]),\n",
    "\t\t] + [\n",
    "\t\t\tGCNConv(layer_sizes[i], layer_sizes[i + 1]) for i in range(len(layer_sizes) - 1)\n",
    "\t\t])\n",
    "\t\t\t\t\t\t\t   \t\t\n",
    "\tdef forward(self, x: torch.tensor, edge_index: torch.tensor, edge_weight: torch.tensor) -> torch.tensor:\n",
    "\t\t\"\"\"\n",
    "\t\tPerforms a forward pass on the GCN model.\n",
    "\t\t:param x: The feature matrix of the graph X_t (Nodes_nb, Features_nb)\n",
    "\t\t:param edge_index: The edge index of the graph A (2, Edges_nb) \n",
    "\t\t:param edge_weight: The edge weight of the graph (Edges_nb,)\n",
    "\t\t:return: The hidden state of the GCN h_t (Nodes_nb, Hidden_size)\n",
    "\t\t\"\"\"\n",
    "\t\tfor conv in self.convs:\n",
    "\t\t\tx = F.relu(conv(x, edge_index, edge_weight))\n",
    "\t\treturn x"
   ],
   "metadata": {
    "collapsed": false,
    "ExecuteTime": {
     "end_time": "2024-05-08T15:40:51.732617400Z",
     "start_time": "2024-05-08T15:40:51.726662700Z"
    }
   },
   "id": "36df5a4f099f3b86",
   "execution_count": 3
  },
  {
   "cell_type": "markdown",
   "source": [
    "## Temporal Graph Convolutional Network (T-GCN)\n",
    "The Temporal Graph Convolutional Network (T-GCN) -- from the paper [T-GCN: A Temporal Graph Convolutional Network for Traffic Prediction](https://arxiv.org/pdf/1811.05320) -- is a simple model that uses GCN layers followed by a GRU layer. The GCN layers are used to extract the spatial features of the graph at a given timestep, and the GRU layer is used to model the temporal dependencies between the different timestamps."
   ],
   "metadata": {
    "collapsed": false
   },
   "id": "51829d995b3b80b"
  },
  {
   "cell_type": "code",
   "outputs": [],
   "source": [
    "class TGCNCell(nn.Module):\n",
    "\t\"\"\"\n",
    "\tT-GCN Cell for one timestep, from https://arxiv.org/pdf/1811.05320.\n",
    "\t\"\"\"\n",
    "\tdef __init__(self, in_channels: int, hidden_size: int):\n",
    "\t\tsuper(TGCNCell, self).__init__()\n",
    "\t\tself.gcn = GCN(in_channels, [hidden_size, hidden_size])\n",
    "\t\tself.lin_u = nn.Linear(2 * hidden_size, hidden_size)\n",
    "\t\tself.lin_r = nn.Linear(2 * hidden_size, hidden_size)\n",
    "\t\tself.lin_c = nn.Linear(2 * hidden_size, hidden_size)\n",
    "\t\t\n",
    "\tdef forward(self, x: torch.tensor, edge_index: torch.tensor, edge_weight: torch.tensor, h: torch.tensor) -> tuple[torch.tensor, torch.tensor]:\n",
    "\t\t\"\"\"\n",
    "\t\tPerforms a forward pass on a single T-GCN cell (GCN + GRU).\n",
    "\t\t:param x: The feature matrix of the graph X_t (Nodes_nb, Features_nb)\n",
    "\t\t:param edge_index: The edge index of the graph A (2, Edges_nb) \n",
    "\t\t:param edge_weight: The edge weight of the graph (Edges_nb,)\n",
    "\t\t:param h: The hidden state of the GRU h_{t-1} (Nodes_nb, Hidden_size)\n",
    "\t\t:return: The hidden state of the GRU h_t (Nodes_nb, Hidden_size)\n",
    "\t\t\"\"\"\n",
    "\t\tx = F.sigmoid(self.gcn(x, edge_index, edge_weight))  # f(A,X_t), Eq. 2\n",
    "\t\tu = F.sigmoid(self.lin_u(torch.cat([x, h], dim=-1)))  # u_t, Eq. 3\n",
    "\t\tr = F.sigmoid(self.lin_r(torch.cat([x, h], dim=-1)))  # r_t,  Eq. 4\n",
    "\t\tc = F.tanh(self.lin_c(torch.cat([x, r * h], dim=-1)))  # c_t, Eq. 5\n",
    "\n",
    "\t\treturn u * h + (1 - u) * c  # h_t, Eq. 6"
   ],
   "metadata": {
    "collapsed": false,
    "ExecuteTime": {
     "end_time": "2024-05-08T15:40:51.744264500Z",
     "start_time": "2024-05-08T15:40:51.738493500Z"
    }
   },
   "id": "30655b136d11f501",
   "execution_count": 4
  },
  {
   "cell_type": "code",
   "outputs": [],
   "source": [
    "class TGCN(nn.Module):\n",
    "\t\"\"\"\n",
    "\tT-GCN model from https://arxiv.org/pdf/1811.05320.\n",
    "\t\"\"\"\n",
    "\tdef __init__(self, in_channels: int, out_channels: int, hidden_size: int):\n",
    "\t\tsuper(TGCN, self).__init__()\n",
    "\t\tself.hidden_size = hidden_size\n",
    "\t\tself.cell = TGCNCell(in_channels, hidden_size)\n",
    "\t\tself.out = nn.Linear(hidden_size, out_channels)\n",
    "\t\t\n",
    "\tdef forward(self, x: torch.tensor, edge_index: torch.tensor, edge_weight: torch.tensor) -> torch.tensor:\n",
    "\t\t\"\"\"\n",
    "\t\tPerforms a forward pass on the T-GCN model.\n",
    "\t\t:param x: The feature matrix of the graph X_t (Nodes_nb, Features_nb, SeqLength)\n",
    "\t\t:param edge_index: The edge index of the graph A (2, Edges_nb) \n",
    "\t\t:param edge_weight: The edge weight of the graph (Edges_nb,)\n",
    "\t\t:return: The output of the model (Nodes_nb, OutFeatures_nb)\n",
    "\t\t\"\"\"\n",
    "\t\th = torch.zeros(x.shape[0], self.hidden_size)\n",
    "\t\tfor t in range(x.shape[-1]):\n",
    "\t\t\th = self.cell(x[:, :, t], edge_index, edge_weight, h)\n",
    "\t\treturn self.out(h)"
   ],
   "metadata": {
    "collapsed": false,
    "ExecuteTime": {
     "end_time": "2024-05-08T15:40:51.752979300Z",
     "start_time": "2024-05-08T15:40:51.747002400Z"
    }
   },
   "id": "ef4b9cad882f5aa5",
   "execution_count": 5
  },
  {
   "cell_type": "code",
   "outputs": [
    {
     "data": {
      "text/plain": "torch.Size([10, 1])"
     },
     "execution_count": 30,
     "metadata": {},
     "output_type": "execute_result"
    }
   ],
   "source": [
    "# Example of usage\n",
    "model = TGCN(2, 1, 32)\n",
    "x = torch.rand(10, 2, 5)\n",
    "edge_index = torch.tensor(\n",
    "\t[[0, 1, 1, 2, 2, 3, 3, 4, 4, 5, 5, 6, 6, 7, 7, 8, 8, 9], \n",
    "\t [1, 0, 2, 1, 3, 2, 4, 3, 5, 4, 6, 5, 7, 6, 8, 7, 9, 8]]\n",
    ")\n",
    "edge_weight = torch.rand(edge_index.shape[1])\n",
    "model(x, edge_index, edge_weight).shape"
   ],
   "metadata": {
    "collapsed": false,
    "ExecuteTime": {
     "end_time": "2024-05-08T15:54:42.618277900Z",
     "start_time": "2024-05-08T15:54:42.593813300Z"
    }
   },
   "id": "7683b55e9a20a095",
   "execution_count": 30
  },
  {
   "cell_type": "markdown",
   "source": [
    "## Attention Temporal Graph Convolutional Network (A3T-GCN)\n",
    "The Attention Temporal Graph Convolutional Network (A3T-GCN) -- from the paper [A3T-GCN: Attention Temporal Graph Convolutional Network for Traffic Forecasting](https://arxiv.org/pdf/2006.11583) -- is a model that extends the T-GCN model by adding an attention mechanism to the hidden states computed by the GRU cells. The attention mechanism is used to learn the importance of the different nodes in the graph at a given timestep."
   ],
   "metadata": {
    "collapsed": false
   },
   "id": "daea4f056802aab1"
  },
  {
   "cell_type": "code",
   "outputs": [],
   "source": [
    "class A3TGCN(nn.Module):\n",
    "\t\"\"\"\n",
    "\tA3T-GCN model from https://arxiv.org/pdf/2006.11583.\n",
    "\t\"\"\"\n",
    "\tdef __init__(self, in_channels: int, out_channels: int, hidden_size: int):\n",
    "\t\tsuper(A3TGCN, self).__init__()\n",
    "\t\tself.hidden_size = hidden_size\n",
    "\t\tself.cell = TGCNCell(in_channels, hidden_size)\n",
    "\t\tself.attention = nn.Sequential(\n",
    "\t\t\tnn.Linear(hidden_size, hidden_size),\n",
    "\t\t\tnn.ReLU(),\n",
    "\t\t\tnn.Linear(hidden_size, 1),\n",
    "\t\t\tnn.Softmax(dim=0),\n",
    "\t\t)\n",
    "\t\tself.out = nn.Linear(hidden_size, out_channels)\n",
    "\t\t\n",
    "\tdef forward(self, x: torch.tensor, edge_index: torch.tensor, edge_weight: torch.tensor) -> torch.tensor:\n",
    "\t\t\"\"\"\n",
    "\t\tPerforms a forward pass on the A3T-GCN model.\n",
    "\t\t:param x: The feature matrix of the graph X_t (Nodes_nb, Features_nb, SeqLength)\n",
    "\t\t:param edge_index: The edge index of the graph A (2, Edges_nb) \n",
    "\t\t:param edge_weight: The edge weight of the graph (Edges_nb,)\n",
    "\t\t:return: The output of the model (Nodes_nb, OutFeatures_nb)\n",
    "\t\t\"\"\"\n",
    "\t\th = torch.zeros(x.shape[0], self.hidden_size)\n",
    "\t\ths = torch.zeros(x.shape[0], x.shape[-1], self.hidden_size)\n",
    "\t\tfor t in range(x.shape[-1]):\n",
    "\t\t\th = self.cell(x[:, :, t], edge_index, edge_weight, h)\n",
    "\t\t\ths[:, t, :] = h\n",
    "\t\tattention_scores = self.attention(hs) # alpha_i, Eq. 8,9\n",
    "\t\tc = torch.sum(hs * attention_scores, dim=1)  # C_t, Eq. 10\n",
    "\t\treturn self.out(c)"
   ],
   "metadata": {
    "collapsed": false,
    "ExecuteTime": {
     "end_time": "2024-05-08T15:55:01.321295800Z",
     "start_time": "2024-05-08T15:55:01.301560100Z"
    }
   },
   "id": "72d24c948b4c9020",
   "execution_count": 31
  },
  {
   "cell_type": "code",
   "outputs": [
    {
     "data": {
      "text/plain": "torch.Size([10, 1])"
     },
     "execution_count": 33,
     "metadata": {},
     "output_type": "execute_result"
    }
   ],
   "source": [
    "# Example of usage\n",
    "model = A3TGCN(2, 1, 32)\n",
    "x = torch.rand(10, 2, 5)\n",
    "edge_index = torch.tensor(\n",
    "\t[[0, 1, 1, 2, 2, 3, 3, 4, 4, 5, 5, 6, 6, 7, 7, 8, 8, 9], \n",
    "\t [1, 0, 2, 1, 3, 2, 4, 3, 5, 4, 6, 5, 7, 6, 8, 7, 9, 8]]\n",
    ")\n",
    "edge_weight = torch.rand(edge_index.shape[1])\n",
    "model(x, edge_index, edge_weight).shape"
   ],
   "metadata": {
    "collapsed": false,
    "ExecuteTime": {
     "end_time": "2024-05-08T15:55:28.043434500Z",
     "start_time": "2024-05-08T15:55:28.018668100Z"
    }
   },
   "id": "e66e9475280f58e4",
   "execution_count": 33
  }
 ],
 "metadata": {
  "kernelspec": {
   "display_name": "Python 3",
   "language": "python",
   "name": "python3"
  },
  "language_info": {
   "codemirror_mode": {
    "name": "ipython",
    "version": 2
   },
   "file_extension": ".py",
   "mimetype": "text/x-python",
   "name": "python",
   "nbconvert_exporter": "python",
   "pygments_lexer": "ipython2",
   "version": "2.7.6"
  }
 },
 "nbformat": 4,
 "nbformat_minor": 5
}
