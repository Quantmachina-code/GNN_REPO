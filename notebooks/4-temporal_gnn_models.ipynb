{
 "cells": [
  {
   "cell_type": "code",
   "execution_count": 6,
   "id": "initial_id",
   "metadata": {
    "collapsed": true,
    "ExecuteTime": {
     "end_time": "2024-05-11T11:59:50.491295700Z",
     "start_time": "2024-05-11T11:59:50.484888700Z"
    }
   },
   "outputs": [],
   "source": [
    "import torch\n",
    "import torch.nn as nn\n",
    "import torch.nn.functional as F\n",
    "from torch_geometric.nn import GCNConv"
   ]
  },
  {
   "cell_type": "markdown",
   "source": [
    "# Spatio-Temporal Graph Neural Network models\n",
    "This notebook will present an implementation of different Spatio-Temporal Graph Neural Network (STGNN) models, that will be used in the next notebooks."
   ],
   "metadata": {
    "collapsed": false
   },
   "id": "336ef8b1ba245641"
  },
  {
   "cell_type": "markdown",
   "source": [
    "## Graph Convolutional Network (GCN)\n",
    "We define a simple Graph Convolutional Network (GCN) model, that will be used as a building block for the following models."
   ],
   "metadata": {
    "collapsed": false
   },
   "id": "8b580204a4e3f0ca"
  },
  {
   "cell_type": "code",
   "outputs": [],
   "source": [
    "class GCN(nn.Module):\n",
    "\t\"\"\"\n",
    "\tSimple two layers GCN model.\n",
    "\t\"\"\"\n",
    "\tdef __init__(self, in_channels: int, layer_sizes: list[int] = None, bias: bool = True):\n",
    "\t\tsuper(GCN, self).__init__()\n",
    "\t\tlayer_sizes = layer_sizes or [32, 32]\n",
    "\t\tself.convs = nn.ModuleList([\n",
    "\t\t\tGCNConv(in_channels, layer_sizes[0], bias=bias),\n",
    "\t\t] + [\n",
    "\t\t\tGCNConv(layer_sizes[i], layer_sizes[i + 1], bias=bias) for i in range(len(layer_sizes) - 1)\n",
    "\t\t])\n",
    "\t\t\t\t\t\t\t   \t\t\n",
    "\tdef forward(self, x: torch.tensor, edge_index: torch.tensor, edge_weight: torch.tensor) -> torch.tensor:\n",
    "\t\t\"\"\"\n",
    "\t\tPerforms a forward pass on the GCN model.\n",
    "\t\t:param x: The feature matrix of the graph X_t (Nodes_nb, Features_nb)\n",
    "\t\t:param edge_index: The edge index of the graph A (2, Edges_nb) \n",
    "\t\t:param edge_weight: The edge weight of the graph (Edges_nb,)\n",
    "\t\t:return: The hidden state of the GCN h_t (Nodes_nb, Hidden_size)\n",
    "\t\t\"\"\"\n",
    "\t\tfor conv in self.convs:\n",
    "\t\t\tx = F.relu(conv(x, edge_index, edge_weight))\n",
    "\t\treturn x"
   ],
   "metadata": {
    "collapsed": false,
    "ExecuteTime": {
     "end_time": "2024-05-11T12:04:33.104300300Z",
     "start_time": "2024-05-11T12:04:33.092857Z"
    }
   },
   "id": "36df5a4f099f3b86",
   "execution_count": 17
  },
  {
   "cell_type": "markdown",
   "source": [
    "## Temporal Graph Convolutional Network (T-GCN)\n",
    "The Temporal Graph Convolutional Network (T-GCN) -- from the paper [T-GCN: A Temporal Graph Convolutional Network for Traffic Prediction](https://arxiv.org/pdf/1811.05320) -- is a simple model that uses GCN layers followed by a GRU layer. The GCN layers are used to extract the spatial features of the graph at a given timestep, and the GRU layer is used to model the temporal dependencies between the different timestamps.\n",
    "However, in the case of stock prices, the data on the stock itself is very important. The drawback of using GCN is that the node feature is lost through the aggregation phase. To address this issue, we can concatenate the node feature with the output of the GCN layer before feeding it to the GRU layer."
   ],
   "metadata": {
    "collapsed": false
   },
   "id": "51829d995b3b80b"
  },
  {
   "cell_type": "code",
   "outputs": [],
   "source": [
    "class TGCNCell(nn.Module):\n",
    "\t\"\"\"\n",
    "\tT-GCN Cell for one timestep, from https://arxiv.org/pdf/1811.05320.\n",
    "\t\"\"\"\n",
    "\tdef __init__(self, in_channels: int, hidden_size: int):\n",
    "\t\tsuper(TGCNCell, self).__init__()\n",
    "\t\tself.gcn = GCN(in_channels, [hidden_size, hidden_size])\n",
    "\t\tself.lin_u = nn.Linear(2 * hidden_size, hidden_size)\n",
    "\t\tself.lin_r = nn.Linear(2 * hidden_size, hidden_size)\n",
    "\t\tself.lin_c = nn.Linear(2 * hidden_size, hidden_size)\n",
    "\t\t\n",
    "\tdef forward(self, x: torch.tensor, edge_index: torch.tensor, edge_weight: torch.tensor, h: torch.tensor) -> tuple[torch.tensor, torch.tensor]:\n",
    "\t\t\"\"\"\n",
    "\t\tPerforms a forward pass on a single T-GCN cell (GCN + GRU).\n",
    "\t\t:param x: The feature matrix of the graph X_t (Nodes_nb, Features_nb)\n",
    "\t\t:param edge_index: The edge index of the graph A (2, Edges_nb) \n",
    "\t\t:param edge_weight: The edge weight of the graph (Edges_nb,)\n",
    "\t\t:param h: The hidden state of the GRU h_{t-1} (Nodes_nb, Hidden_size)\n",
    "\t\t:return: The hidden state of the GRU h_t (Nodes_nb, Hidden_size)\n",
    "\t\t\"\"\"\n",
    "\t\tgcn_out = F.sigmoid(self.gcn(x, edge_index, edge_weight))  # f(A,X_t), Eq. 2\n",
    "\t\tu = F.sigmoid(self.lin_u(torch.cat([gcn_out, h], dim=-1)))  # u_t, Eq. 3\n",
    "\t\tr = F.sigmoid(self.lin_r(torch.cat([gcn_out, h], dim=-1)))  # r_t,  Eq. 4\n",
    "\t\tc = F.tanh(self.lin_c(torch.cat([gcn_out, r * h], dim=-1)))  # c_t, Eq. 5\n",
    "\n",
    "\t\treturn u * h + (1 - u) * c  # h_t, Eq. 6"
   ],
   "metadata": {
    "collapsed": false,
    "ExecuteTime": {
     "end_time": "2024-05-11T12:04:34.687695300Z",
     "start_time": "2024-05-11T12:04:34.676031Z"
    }
   },
   "id": "30655b136d11f501",
   "execution_count": 18
  },
  {
   "cell_type": "code",
   "outputs": [],
   "source": [
    "class TGCN(nn.Module):\n",
    "\t\"\"\"\n",
    "\tT-GCN model from https://arxiv.org/pdf/1811.05320.\n",
    "\t\"\"\"\n",
    "\tdef __init__(self, in_channels: int, out_channels: int, hidden_size: int, layers_nb: int = 2):\n",
    "\t\tsuper(TGCN, self).__init__()\n",
    "\t\tself.hidden_size = hidden_size\n",
    "\t\tself.layers_nb = max(1, layers_nb)\n",
    "\t\tself.cells = nn.ModuleList(\n",
    "\t\t\t[TGCNCell(in_channels, hidden_size)] + [TGCNCell(hidden_size, hidden_size) for _ in range(self.layers_nb - 1)]\n",
    "\t\t)\n",
    "\t\tself.out = nn.Linear(hidden_size, out_channels)\n",
    "\t\t\n",
    "\tdef forward(self, x: torch.tensor, edge_index: torch.tensor, edge_weight: torch.tensor) -> torch.tensor:\n",
    "\t\t\"\"\"\n",
    "\t\tPerforms a forward pass on the T-GCN model.\n",
    "\t\t:param x: The feature matrix of the graph X_t (Nodes_nb, Features_nb, SeqLength)\n",
    "\t\t:param edge_index: The edge index of the graph A (2, Edges_nb) \n",
    "\t\t:param edge_weight: The edge weight of the graph (Edges_nb,)\n",
    "\t\t:return: The output of the model (Nodes_nb, OutFeatures_nb)\n",
    "\t\t\"\"\"\n",
    "\t\th_prev = [\n",
    "\t\t\ttorch.zeros(x.shape[0], self.hidden_size) for _ in range(self.layers_nb)\n",
    "\t\t]\n",
    "\t\tfor t in range(x.shape[-1]):\n",
    "\t\t\th = x[:, :, t]  # h is the output of the previous GRU layer (the input features for the first layer)\n",
    "\t\t\tfor i, cell in enumerate(self.cells):\n",
    "\t\t\t\th = cell(h, edge_index, edge_weight, h_prev[i])\n",
    "\t\t\t\th_prev[i] = h\n",
    "\t\treturn self.out(h_prev[-1])"
   ],
   "metadata": {
    "collapsed": false,
    "ExecuteTime": {
     "end_time": "2024-05-11T12:04:35.798029400Z",
     "start_time": "2024-05-11T12:04:35.786698100Z"
    }
   },
   "id": "ef4b9cad882f5aa5",
   "execution_count": 19
  },
  {
   "cell_type": "code",
   "outputs": [
    {
     "data": {
      "text/plain": "tensor([[0.0054],\n        [0.0054],\n        [0.0054],\n        [0.0054],\n        [0.0054],\n        [0.0054],\n        [0.0054],\n        [0.0054],\n        [0.0054],\n        [0.0054]], grad_fn=<AddmmBackward0>)"
     },
     "execution_count": 27,
     "metadata": {},
     "output_type": "execute_result"
    }
   ],
   "source": [
    "# Example of usage\n",
    "model = TGCN(2, 1, 32)\n",
    "x = torch.rand(10, 2, 5)\n",
    "edge_index = torch.tensor(\n",
    "\t[[0, 1, 1, 2, 2, 3, 3, 4, 4, 5, 5, 6, 6, 7, 7, 8, 8, 9], \n",
    "\t [1, 0, 2, 1, 3, 2, 4, 3, 5, 4, 6, 5, 7, 6, 8, 7, 9, 8]]\n",
    ")\n",
    "edge_weight = torch.rand(edge_index.shape[1])\n",
    "model(x, edge_index, edge_weight)"
   ],
   "metadata": {
    "collapsed": false,
    "ExecuteTime": {
     "end_time": "2024-05-11T12:04:49.394236900Z",
     "start_time": "2024-05-11T12:04:49.337971600Z"
    }
   },
   "id": "bb12882dafac182f",
   "execution_count": 27
  },
  {
   "cell_type": "markdown",
   "source": [
    "## Attention Temporal Graph Convolutional Network (A3T-GCN)\n",
    "The Attention Temporal Graph Convolutional Network (A3T-GCN) -- from the paper [A3T-GCN: Attention Temporal Graph Convolutional Network for Traffic Forecasting](https://arxiv.org/pdf/2006.11583) -- is a model that extends the T-GCN model by adding an attention mechanism to the hidden states computed by the GRU cells. The attention mechanism is used to learn the importance of the different nodes in the graph at a given timestep."
   ],
   "metadata": {
    "collapsed": false
   },
   "id": "daea4f056802aab1"
  },
  {
   "cell_type": "code",
   "outputs": [],
   "source": [
    "class A3TGCN(nn.Module):\n",
    "\t\"\"\"\n",
    "\tA3T-GCN model from https://arxiv.org/pdf/2006.11583.\n",
    "\t\"\"\"\n",
    "\tdef __init__(self, in_channels: int, out_channels: int, hidden_size: int, layers_nb: int = 2):\n",
    "\t\tsuper(A3TGCN, self).__init__()\n",
    "\t\tself.hidden_size = hidden_size\n",
    "\t\tself.layers_nb = max(1, layers_nb)\n",
    "\t\tself.cells = nn.ModuleList(\n",
    "\t\t\t[TGCNCell(in_channels, hidden_size)] + [TGCNCell(hidden_size, hidden_size) for _ in range(self.layers_nb - 1)]\n",
    "\t\t)\n",
    "\t\tself.attention = nn.Sequential(\n",
    "\t\t\tnn.Linear(hidden_size, 1),\n",
    "\t\t\tnn.Softmax(dim=1),\n",
    "\t\t)\n",
    "\t\tnn.init.uniform_(self.attention[0].weight)\n",
    "\t\tself.out = nn.Linear(hidden_size, out_channels)\n",
    "\t\t\n",
    "\tdef forward(self, x: torch.tensor, edge_index: torch.tensor, edge_weight: torch.tensor) -> torch.tensor:\n",
    "\t\t\"\"\"\n",
    "\t\tPerforms a forward pass on the A3T-GCN model.\n",
    "\t\t:param x: The feature matrix of the graph X_t (Nodes_nb, Features_nb, SeqLength)\n",
    "\t\t:param edge_index: The edge index of the graph A (2, Edges_nb) \n",
    "\t\t:param edge_weight: The edge weight of the graph (Edges_nb,)\n",
    "\t\t:return: The output of the model (Nodes_nb, OutFeatures_nb)\n",
    "\t\t\"\"\"\n",
    "\t\th_prev = [\n",
    "\t\t\ttorch.zeros(x.shape[0], self.hidden_size) for _ in range(self.layers_nb)\n",
    "\t\t]\n",
    "\t\th_final = torch.zeros(x.shape[0], x.shape[-1], self.hidden_size)\n",
    "\t\tfor t in range(x.shape[-1]):\n",
    "\t\t\th = x[:, :, t]  # h is the output of the previous GRU layer (the input features for the first layer)\n",
    "\t\t\tfor i, cell in enumerate(self.cells):\n",
    "\t\t\t\th = cell(h, edge_index, edge_weight, h_prev[i])\n",
    "\t\t\t\th_prev[i] = h\n",
    "\t\t\th_final[:, t, :] = h\n",
    "\t\tatt = self.attention(h_final)\n",
    "\t\tc_t = self.out(torch.sum(h_final * att, dim=1))\n",
    "\t\treturn c_t"
   ],
   "metadata": {
    "collapsed": false,
    "ExecuteTime": {
     "end_time": "2024-05-09T14:45:16.312616800Z",
     "start_time": "2024-05-09T14:45:16.276408100Z"
    }
   },
   "id": "72d24c948b4c9020",
   "execution_count": 21
  },
  {
   "cell_type": "code",
   "outputs": [
    {
     "data": {
      "text/plain": "tensor([[0.2586],\n        [0.2596],\n        [0.2595],\n        [0.2590],\n        [0.2590],\n        [0.2593],\n        [0.2590],\n        [0.2592],\n        [0.2604],\n        [0.2591]], grad_fn=<AddmmBackward0>)"
     },
     "execution_count": 22,
     "metadata": {},
     "output_type": "execute_result"
    }
   ],
   "source": [
    "# Example of usage\n",
    "model = A3TGCN(2, 1, 32)\n",
    "x = torch.rand(10, 2, 5)\n",
    "edge_index = torch.tensor(\n",
    "\t[[0, 1, 1, 2, 2, 3, 3, 4, 4, 5, 5, 6, 6, 7, 7, 8, 8, 9], \n",
    "\t [1, 0, 2, 1, 3, 2, 4, 3, 5, 4, 6, 5, 7, 6, 8, 7, 9, 8]]\n",
    ")\n",
    "edge_weight = torch.rand(edge_index.shape[1])\n",
    "model(x, edge_index, edge_weight)"
   ],
   "metadata": {
    "collapsed": false,
    "ExecuteTime": {
     "end_time": "2024-05-09T14:45:16.783424700Z",
     "start_time": "2024-05-09T14:45:16.305497900Z"
    }
   },
   "id": "e66e9475280f58e4",
   "execution_count": 22
  },
  {
   "cell_type": "markdown",
   "source": [
    "## Diffusion Convolutional Recurrent Neural Network (DCRNN)\n",
    "The Diffusion Convolutional Recurrent Neural Network (DCRNN) -- from the paper [Diffusion Convolutional Recurrent Neural Network: Data-Driven Traffic Forecasting](https://arxiv.org/pdf/1707.01926) -- is a model that uses a diffusion convolutional layer to extract the spatial features of the graph at a given timestep, and a GRU layer to model the temporal dependencies between the different timestamps."
   ],
   "metadata": {
    "collapsed": false
   },
   "id": "540d15f61b1423d9"
  },
  {
   "cell_type": "code",
   "outputs": [],
   "source": [
    "class DCGRUCell(nn.Module):\n",
    "\t\"\"\"\n",
    "\tDCRNN Cell for one timestep, from https://arxiv.org/pdf/1707.01926.\n",
    "\t\"\"\"\n",
    "\tdef __init__(self, in_channels: int, hidden_size: int):\n",
    "\t\tsuper(DCGRUCell, self).__init__()\n",
    "\t\tself.gcn_r = GCN(in_channels + hidden_size, [hidden_size, hidden_size], bias=True)\n",
    "\t\tself.gcn_u = GCN(in_channels + hidden_size, [hidden_size, hidden_size], bias=True)\n",
    "\t\tself.gcn_c = GCN(in_channels + hidden_size, [hidden_size, hidden_size], bias=True)\n",
    "\t\t\n",
    "\tdef forward(self, x: torch.tensor, edge_index: torch.tensor, edge_weight: torch.tensor, h: torch.tensor) -> torch.tensor:\n",
    "\t\t\"\"\"\n",
    "\t\tPerforms a forward pass on a single DCRNN cell.\n",
    "\t\t:param x: The feature matrix of the graph X_t (Nodes_nb, Features_nb)\n",
    "\t\t:param edge_index: The edge index of the graph A (2, Edges_nb) \n",
    "\t\t:param edge_weight: The edge weight of the graph (Edges_nb,)\n",
    "\t\t:param h: The hidden state of the GRU h_{t-1} (Nodes_nb, Hidden_size)\n",
    "\t\t:return: The hidden state of the GRU h_t (Nodes_nb, Hidden_size)\n",
    "\t\t\"\"\"\n",
    "\t\tx_h = torch.cat([x, h], dim=-1)\n",
    "\t\tr = F.sigmoid(self.gcn_r(x_h, edge_index, edge_weight))\n",
    "\t\tu = F.sigmoid(self.gcn_u(x_h, edge_index, edge_weight))\n",
    "\t\tc = F.tanh(self.gcn_c(torch.cat([x, r * h], dim=-1), edge_index, edge_weight))\n",
    "\t\treturn u * h + (1 - u) * c"
   ],
   "metadata": {
    "collapsed": false,
    "ExecuteTime": {
     "end_time": "2024-05-09T14:45:16.801901300Z",
     "start_time": "2024-05-09T14:45:16.784244100Z"
    }
   },
   "id": "61a3406c9b5e9ad1",
   "execution_count": 23
  },
  {
   "cell_type": "code",
   "outputs": [],
   "source": [
    "class DCGNN(nn.Module):\n",
    "\t\"\"\"\n",
    "\tDCGNN model from https://arxiv.org/pdf/1707.01926.\n",
    "\t\"\"\"\n",
    "\tdef __init__(self, in_channels: int, out_channels: int, hidden_size: int, layers_nb: int = 2):\n",
    "\t\tsuper(DCGNN, self).__init__()\n",
    "\t\tself.hidden_size = hidden_size\n",
    "\t\tself.layers_nb = max(1, layers_nb)\n",
    "\t\tself.cells = nn.ModuleList(\n",
    "\t\t\t[DCGRUCell(in_channels, hidden_size)] + [DCGRUCell(hidden_size, hidden_size) for _ in range(self.layers_nb - 1)]\n",
    "\t\t)\n",
    "\t\tself.out = nn.Linear(hidden_size, out_channels)\n",
    "\t\t\n",
    "\tdef forward(self, x: torch.tensor, edge_index: torch.tensor, edge_weight: torch.tensor) -> torch.tensor:\n",
    "\t\t\"\"\"\n",
    "\t\tPerforms a forward pass on the DCRNN model.\n",
    "\t\t:param x: The feature matrix of the graph X_t (Nodes_nb, Features_nb, SeqLength)\n",
    "\t\t:param edge_index: The edge index of the graph A (2, Edges_nb) \n",
    "\t\t:param edge_weight: The edge weight of the graph (Edges_nb,)\n",
    "\t\t:return: The output of the model (Nodes_nb, OutFeatures_nb)\n",
    "\t\t\"\"\"\n",
    "\t\th_prev = [\n",
    "\t\t\ttorch.zeros(x.shape[0], self.hidden_size) for _ in range(self.layers_nb)\n",
    "\t\t]\n",
    "\t\tfor t in range(x.shape[-1]):\n",
    "\t\t\th = x[:, :, t]  # h is the output of the previous GRU layer (the input features for the first layer)\n",
    "\t\t\tfor i, cell in enumerate(self.cells):\n",
    "\t\t\t\th = cell(h, edge_index, edge_weight, h_prev[i])\n",
    "\t\t\t\th_prev[i] = h\n",
    "\t\treturn self.out(h_prev[-1])"
   ],
   "metadata": {
    "collapsed": false,
    "ExecuteTime": {
     "end_time": "2024-05-09T14:45:16.873399700Z",
     "start_time": "2024-05-09T14:45:16.801901300Z"
    }
   },
   "id": "1ae264f58286e6b3",
   "execution_count": 24
  },
  {
   "cell_type": "code",
   "outputs": [
    {
     "data": {
      "text/plain": "tensor([[-0.0706],\n        [-0.0714],\n        [-0.0708],\n        [-0.0704],\n        [-0.0709],\n        [-0.0702],\n        [-0.0712],\n        [-0.0713],\n        [-0.0706],\n        [-0.0696]], grad_fn=<AddmmBackward0>)"
     },
     "execution_count": 25,
     "metadata": {},
     "output_type": "execute_result"
    }
   ],
   "source": [
    "# Example of usage\n",
    "model = DCGNN(2, 1, 32)\n",
    "x = torch.rand(10, 2, 5)\n",
    "edge_index = torch.tensor(\n",
    "\t[[0, 1, 1, 2, 2, 3, 3, 4, 4, 5, 5, 6, 6, 7, 7, 8, 8, 9], \n",
    "\t [1, 0, 2, 1, 3, 2, 4, 3, 5, 4, 6, 5, 7, 6, 8, 7, 9, 8]]\n",
    ")\n",
    "edge_weight = torch.rand(edge_index.shape[1])\n",
    "model(x, edge_index, edge_weight)"
   ],
   "metadata": {
    "collapsed": false,
    "ExecuteTime": {
     "end_time": "2024-05-09T14:45:17.151067700Z",
     "start_time": "2024-05-09T14:45:16.833397200Z"
    }
   },
   "id": "5fd6ed9554425b57",
   "execution_count": 25
  }
 ],
 "metadata": {
  "kernelspec": {
   "display_name": "Python 3",
   "language": "python",
   "name": "python3"
  },
  "language_info": {
   "codemirror_mode": {
    "name": "ipython",
    "version": 2
   },
   "file_extension": ".py",
   "mimetype": "text/x-python",
   "name": "python",
   "nbconvert_exporter": "python",
   "pygments_lexer": "ipython2",
   "version": "2.7.6"
  }
 },
 "nbformat": 4,
 "nbformat_minor": 5
}
